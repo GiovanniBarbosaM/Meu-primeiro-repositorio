{
  "cells": [
    {
      "cell_type": "markdown",
      "metadata": {
        "id": "view-in-github",
        "colab_type": "text"
      },
      "source": [
        "<a href=\"https://colab.research.google.com/github/GiovanniBarbosaM/Meu-primeiro-repositorio/blob/main/Ol%C3%A1%2C_este_%C3%A9_o_Colaboratory.ipynb\" target=\"_parent\"><img src=\"https://colab.research.google.com/assets/colab-badge.svg\" alt=\"Open In Colab\"/></a>"
      ]
    },
    {
      "cell_type": "code",
      "source": [
        "numeros = [1,2,3,4,5]\n",
        "numeros\n"
      ],
      "metadata": {
        "id": "bfx37HRJ07fw"
      },
      "execution_count": 4,
      "outputs": []
    },
    {
      "cell_type": "code",
      "source": [
        "numeros"
      ],
      "metadata": {
        "id": "4u7Trsll5QMA",
        "outputId": "f099188e-3726-42c1-de8c-4778eacc8cd0",
        "colab": {
          "base_uri": "https://localhost:8080/"
        }
      },
      "execution_count": 5,
      "outputs": [
        {
          "output_type": "execute_result",
          "data": {
            "text/plain": [
              "[1, 2, 3, 4, 5]"
            ]
          },
          "metadata": {},
          "execution_count": 5
        }
      ]
    },
    {
      "cell_type": "code",
      "source": [
        "for num in numeros:\n",
        "  print(num)"
      ],
      "metadata": {
        "id": "dQuPR18j5QY3",
        "outputId": "d2c4a7ce-1699-4bd0-a30f-7f21d6030ec1",
        "colab": {
          "base_uri": "https://localhost:8080/"
        }
      },
      "execution_count": 7,
      "outputs": [
        {
          "output_type": "stream",
          "name": "stdout",
          "text": [
            "1\n",
            "2\n",
            "3\n",
            "4\n",
            "5\n"
          ]
        }
      ]
    },
    {
      "cell_type": "code",
      "source": [
        "for x in range(5): #lembre-se que o range começa em 0\n",
        "    print(x)"
      ],
      "metadata": {
        "id": "RkiJVjM4KuB7",
        "outputId": "da06c28e-1b4e-45af-fcb2-9af17cde02e8",
        "colab": {
          "base_uri": "https://localhost:8080/"
        }
      },
      "execution_count": 18,
      "outputs": [
        {
          "output_type": "stream",
          "name": "stdout",
          "text": [
            "0\n",
            "1\n",
            "2\n",
            "3\n",
            "4\n"
          ]
        }
      ]
    },
    {
      "cell_type": "code",
      "source": [
        "for y in range(2,7): #observe que aqui o 7 não entra no looping\n",
        "    print(y)"
      ],
      "metadata": {
        "id": "VsRu4VckK8IU",
        "outputId": "6a6239a8-ef2f-4f16-ade0-e47bfe40bf20",
        "colab": {
          "base_uri": "https://localhost:8080/"
        }
      },
      "execution_count": 17,
      "outputs": [
        {
          "output_type": "stream",
          "name": "stdout",
          "text": [
            "2\n",
            "3\n",
            "4\n",
            "5\n",
            "6\n"
          ]
        }
      ]
    },
    {
      "cell_type": "code",
      "source": [
        "for z in range(1,11,2): #observe que aqui o 11 entra no looping\n",
        "    print(z)"
      ],
      "metadata": {
        "id": "NKuZyNF_Ldn0",
        "outputId": "6fcfd25a-eb94-4f56-90b0-e4b47d605105",
        "colab": {
          "base_uri": "https://localhost:8080/"
        }
      },
      "execution_count": 19,
      "outputs": [
        {
          "output_type": "stream",
          "name": "stdout",
          "text": [
            "1\n",
            "3\n",
            "5\n",
            "7\n",
            "9\n"
          ]
        }
      ]
    },
    {
      "cell_type": "code",
      "source": [
        "for numero in range(1, 11):\n",
        "    if numero % 2 ==0:\n",
        "      print(\"O primeiro número par encontrado é:\", numero)\n",
        "      break"
      ],
      "metadata": {
        "id": "tqieR6AkL4Hr",
        "outputId": "cb81d4b9-b051-49e8-f9d6-74b8ec499bfb",
        "colab": {
          "base_uri": "https://localhost:8080/"
        }
      },
      "execution_count": 23,
      "outputs": [
        {
          "output_type": "stream",
          "name": "stdout",
          "text": [
            "O primeiro número par encontrado é: 2\n"
          ]
        }
      ]
    },
    {
      "cell_type": "code",
      "source": [
        "for numero in range(1,11):\n",
        "  if numero == 5:\n",
        "    continue\n",
        "  print(numero)"
      ],
      "metadata": {
        "id": "xrX6QjqrMf6D",
        "outputId": "5288b8eb-d9a5-4aaa-c036-dda9557bb834",
        "colab": {
          "base_uri": "https://localhost:8080/"
        }
      },
      "execution_count": 24,
      "outputs": [
        {
          "output_type": "stream",
          "name": "stdout",
          "text": [
            "1\n",
            "2\n",
            "3\n",
            "4\n",
            "6\n",
            "7\n",
            "8\n",
            "9\n",
            "10\n"
          ]
        }
      ]
    },
    {
      "cell_type": "code",
      "source": [
        "filmes = [\"Filme1\", \" Filme 2\", \"Filme 3\", \"Filme 4\", \"Filme 5\"]\n",
        "\n",
        "filmes"
      ],
      "metadata": {
        "id": "8T7udwE9RMQa",
        "outputId": "54a2cb6f-00a8-46c0-b344-55ad44f81062",
        "colab": {
          "base_uri": "https://localhost:8080/"
        }
      },
      "execution_count": 29,
      "outputs": [
        {
          "output_type": "execute_result",
          "data": {
            "text/plain": [
              "['Filme1', ' Filme 2', 'Filme 3', 'Filme 4', 'Filme 5']"
            ]
          },
          "metadata": {},
          "execution_count": 29
        }
      ]
    },
    {
      "cell_type": "code",
      "source": [
        "# Mensagem de Boas-vindas\n",
        "print(\"Bem-vindo à classificação de filmes!\")\n",
        "print(\"Você tem cinco filmes para classificar.\")\n",
        "print(\"Digite '0' a qualquer momento para parar.\\n\")\n",
        "\n",
        "for filme in filmes:\n",
        "\n",
        "    classificacao = input(f\"Como você classifica '{filme}' de 1 a 5? (ou 0 para parar): \")\n",
        "    if classificacao == '0':\n",
        "      print(\"Que pena que você não irá classificar mais filmes.\")\n",
        "      break\n",
        "    classificacao = int(classificacao)\n",
        "    if classificacao < 1 or classificacao > 5:\n",
        "      print(\"Por favor, digite uma classificação válida de 1 a 5.\")\n",
        "    else:\n",
        "      print(f\"Você classificoi '{filme}' com {classificacao} estrelas.\\n\")\n",
        "print(\"Obrigado por classificar os filmes!\")\n",
        "print(\"Volte Sempre\")"
      ],
      "metadata": {
        "id": "Wld9SPnQRCxa",
        "outputId": "6df8a890-d624-4875-bd3d-398381189b6b",
        "colab": {
          "base_uri": "https://localhost:8080/"
        }
      },
      "execution_count": null,
      "outputs": [
        {
          "output_type": "stream",
          "name": "stdout",
          "text": [
            "Bem-vindo à classificação de filmes!\n",
            "Você tem cinco filmes para classificar.\n",
            "Digite '0' a qualquer momento para parar.\n",
            "\n",
            "Como você classifica 'Filme1' de 1 a 5? (ou 0 para parar): 6\n",
            "Por favor, digite uma classificação válida de 1 a 5.\n"
          ]
        }
      ]
    }
  ],
  "metadata": {
    "colab": {
      "name": "Olá, este é o Colaboratory",
      "toc_visible": true,
      "provenance": [],
      "include_colab_link": true
    },
    "kernelspec": {
      "display_name": "Python 3",
      "name": "python3"
    }
  },
  "nbformat": 4,
  "nbformat_minor": 0
}